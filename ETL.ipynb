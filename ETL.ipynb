{
 "cells": [
  {
   "attachments": {},
   "cell_type": "markdown",
   "metadata": {},
   "source": [
    "# IMPORT LIBRARIES"
   ]
  },
  {
   "cell_type": "code",
   "execution_count": 1,
   "metadata": {},
   "outputs": [],
   "source": [
    "import pandas as pd\n",
    "import json\n",
    "from pandas import json_normalize\n",
    "import numpy as np\n",
    "import datetime\n",
    "import matplotlib.pyplot as plt\n",
    "import seaborn as sns"
   ]
  },
  {
   "attachments": {},
   "cell_type": "markdown",
   "metadata": {},
   "source": [
    "## Visualize the data"
   ]
  },
  {
   "cell_type": "code",
   "execution_count": 2,
   "metadata": {},
   "outputs": [
    {
     "name": "stderr",
     "output_type": "stream",
     "text": [
      "C:\\Users\\pedro\\AppData\\Local\\Temp\\ipykernel_13508\\2772154884.py:2: DtypeWarning: Columns (10) have mixed types. Specify dtype option on import or set low_memory=False.\n",
      "  movies=pd.read_csv('movies_dataset.csv')\n"
     ]
    },
    {
     "data": {
      "text/html": [
       "<div>\n",
       "<style scoped>\n",
       "    .dataframe tbody tr th:only-of-type {\n",
       "        vertical-align: middle;\n",
       "    }\n",
       "\n",
       "    .dataframe tbody tr th {\n",
       "        vertical-align: top;\n",
       "    }\n",
       "\n",
       "    .dataframe thead th {\n",
       "        text-align: right;\n",
       "    }\n",
       "</style>\n",
       "<table border=\"1\" class=\"dataframe\">\n",
       "  <thead>\n",
       "    <tr style=\"text-align: right;\">\n",
       "      <th></th>\n",
       "      <th>adult</th>\n",
       "      <th>belongs_to_collection</th>\n",
       "      <th>budget</th>\n",
       "      <th>genres</th>\n",
       "      <th>homepage</th>\n",
       "      <th>id</th>\n",
       "      <th>imdb_id</th>\n",
       "      <th>original_language</th>\n",
       "      <th>original_title</th>\n",
       "      <th>overview</th>\n",
       "      <th>...</th>\n",
       "      <th>release_date</th>\n",
       "      <th>revenue</th>\n",
       "      <th>runtime</th>\n",
       "      <th>spoken_languages</th>\n",
       "      <th>status</th>\n",
       "      <th>tagline</th>\n",
       "      <th>title</th>\n",
       "      <th>video</th>\n",
       "      <th>vote_average</th>\n",
       "      <th>vote_count</th>\n",
       "    </tr>\n",
       "  </thead>\n",
       "  <tbody>\n",
       "    <tr>\n",
       "      <th>0</th>\n",
       "      <td>False</td>\n",
       "      <td>{'id': 10194, 'name': 'Toy Story Collection', ...</td>\n",
       "      <td>30000000</td>\n",
       "      <td>[{'id': 16, 'name': 'Animation'}, {'id': 35, '...</td>\n",
       "      <td>http://toystory.disney.com/toy-story</td>\n",
       "      <td>862</td>\n",
       "      <td>tt0114709</td>\n",
       "      <td>en</td>\n",
       "      <td>Toy Story</td>\n",
       "      <td>Led by Woody, Andy's toys live happily in his ...</td>\n",
       "      <td>...</td>\n",
       "      <td>1995-10-30</td>\n",
       "      <td>373554033.0</td>\n",
       "      <td>81.0</td>\n",
       "      <td>[{'iso_639_1': 'en', 'name': 'English'}]</td>\n",
       "      <td>Released</td>\n",
       "      <td>NaN</td>\n",
       "      <td>Toy Story</td>\n",
       "      <td>False</td>\n",
       "      <td>7.7</td>\n",
       "      <td>5415.0</td>\n",
       "    </tr>\n",
       "    <tr>\n",
       "      <th>1</th>\n",
       "      <td>False</td>\n",
       "      <td>NaN</td>\n",
       "      <td>65000000</td>\n",
       "      <td>[{'id': 12, 'name': 'Adventure'}, {'id': 14, '...</td>\n",
       "      <td>NaN</td>\n",
       "      <td>8844</td>\n",
       "      <td>tt0113497</td>\n",
       "      <td>en</td>\n",
       "      <td>Jumanji</td>\n",
       "      <td>When siblings Judy and Peter discover an encha...</td>\n",
       "      <td>...</td>\n",
       "      <td>1995-12-15</td>\n",
       "      <td>262797249.0</td>\n",
       "      <td>104.0</td>\n",
       "      <td>[{'iso_639_1': 'en', 'name': 'English'}, {'iso...</td>\n",
       "      <td>Released</td>\n",
       "      <td>Roll the dice and unleash the excitement!</td>\n",
       "      <td>Jumanji</td>\n",
       "      <td>False</td>\n",
       "      <td>6.9</td>\n",
       "      <td>2413.0</td>\n",
       "    </tr>\n",
       "    <tr>\n",
       "      <th>2</th>\n",
       "      <td>False</td>\n",
       "      <td>{'id': 119050, 'name': 'Grumpy Old Men Collect...</td>\n",
       "      <td>0</td>\n",
       "      <td>[{'id': 10749, 'name': 'Romance'}, {'id': 35, ...</td>\n",
       "      <td>NaN</td>\n",
       "      <td>15602</td>\n",
       "      <td>tt0113228</td>\n",
       "      <td>en</td>\n",
       "      <td>Grumpier Old Men</td>\n",
       "      <td>A family wedding reignites the ancient feud be...</td>\n",
       "      <td>...</td>\n",
       "      <td>1995-12-22</td>\n",
       "      <td>0.0</td>\n",
       "      <td>101.0</td>\n",
       "      <td>[{'iso_639_1': 'en', 'name': 'English'}]</td>\n",
       "      <td>Released</td>\n",
       "      <td>Still Yelling. Still Fighting. Still Ready for...</td>\n",
       "      <td>Grumpier Old Men</td>\n",
       "      <td>False</td>\n",
       "      <td>6.5</td>\n",
       "      <td>92.0</td>\n",
       "    </tr>\n",
       "    <tr>\n",
       "      <th>3</th>\n",
       "      <td>False</td>\n",
       "      <td>NaN</td>\n",
       "      <td>16000000</td>\n",
       "      <td>[{'id': 35, 'name': 'Comedy'}, {'id': 18, 'nam...</td>\n",
       "      <td>NaN</td>\n",
       "      <td>31357</td>\n",
       "      <td>tt0114885</td>\n",
       "      <td>en</td>\n",
       "      <td>Waiting to Exhale</td>\n",
       "      <td>Cheated on, mistreated and stepped on, the wom...</td>\n",
       "      <td>...</td>\n",
       "      <td>1995-12-22</td>\n",
       "      <td>81452156.0</td>\n",
       "      <td>127.0</td>\n",
       "      <td>[{'iso_639_1': 'en', 'name': 'English'}]</td>\n",
       "      <td>Released</td>\n",
       "      <td>Friends are the people who let you be yourself...</td>\n",
       "      <td>Waiting to Exhale</td>\n",
       "      <td>False</td>\n",
       "      <td>6.1</td>\n",
       "      <td>34.0</td>\n",
       "    </tr>\n",
       "    <tr>\n",
       "      <th>4</th>\n",
       "      <td>False</td>\n",
       "      <td>{'id': 96871, 'name': 'Father of the Bride Col...</td>\n",
       "      <td>0</td>\n",
       "      <td>[{'id': 35, 'name': 'Comedy'}]</td>\n",
       "      <td>NaN</td>\n",
       "      <td>11862</td>\n",
       "      <td>tt0113041</td>\n",
       "      <td>en</td>\n",
       "      <td>Father of the Bride Part II</td>\n",
       "      <td>Just when George Banks has recovered from his ...</td>\n",
       "      <td>...</td>\n",
       "      <td>1995-02-10</td>\n",
       "      <td>76578911.0</td>\n",
       "      <td>106.0</td>\n",
       "      <td>[{'iso_639_1': 'en', 'name': 'English'}]</td>\n",
       "      <td>Released</td>\n",
       "      <td>Just When His World Is Back To Normal... He's ...</td>\n",
       "      <td>Father of the Bride Part II</td>\n",
       "      <td>False</td>\n",
       "      <td>5.7</td>\n",
       "      <td>173.0</td>\n",
       "    </tr>\n",
       "  </tbody>\n",
       "</table>\n",
       "<p>5 rows × 24 columns</p>\n",
       "</div>"
      ],
      "text/plain": [
       "   adult                              belongs_to_collection    budget   \n",
       "0  False  {'id': 10194, 'name': 'Toy Story Collection', ...  30000000  \\\n",
       "1  False                                                NaN  65000000   \n",
       "2  False  {'id': 119050, 'name': 'Grumpy Old Men Collect...         0   \n",
       "3  False                                                NaN  16000000   \n",
       "4  False  {'id': 96871, 'name': 'Father of the Bride Col...         0   \n",
       "\n",
       "                                              genres   \n",
       "0  [{'id': 16, 'name': 'Animation'}, {'id': 35, '...  \\\n",
       "1  [{'id': 12, 'name': 'Adventure'}, {'id': 14, '...   \n",
       "2  [{'id': 10749, 'name': 'Romance'}, {'id': 35, ...   \n",
       "3  [{'id': 35, 'name': 'Comedy'}, {'id': 18, 'nam...   \n",
       "4                     [{'id': 35, 'name': 'Comedy'}]   \n",
       "\n",
       "                               homepage     id    imdb_id original_language   \n",
       "0  http://toystory.disney.com/toy-story    862  tt0114709                en  \\\n",
       "1                                   NaN   8844  tt0113497                en   \n",
       "2                                   NaN  15602  tt0113228                en   \n",
       "3                                   NaN  31357  tt0114885                en   \n",
       "4                                   NaN  11862  tt0113041                en   \n",
       "\n",
       "                original_title   \n",
       "0                    Toy Story  \\\n",
       "1                      Jumanji   \n",
       "2             Grumpier Old Men   \n",
       "3            Waiting to Exhale   \n",
       "4  Father of the Bride Part II   \n",
       "\n",
       "                                            overview  ... release_date   \n",
       "0  Led by Woody, Andy's toys live happily in his ...  ...   1995-10-30  \\\n",
       "1  When siblings Judy and Peter discover an encha...  ...   1995-12-15   \n",
       "2  A family wedding reignites the ancient feud be...  ...   1995-12-22   \n",
       "3  Cheated on, mistreated and stepped on, the wom...  ...   1995-12-22   \n",
       "4  Just when George Banks has recovered from his ...  ...   1995-02-10   \n",
       "\n",
       "       revenue runtime                                   spoken_languages   \n",
       "0  373554033.0    81.0           [{'iso_639_1': 'en', 'name': 'English'}]  \\\n",
       "1  262797249.0   104.0  [{'iso_639_1': 'en', 'name': 'English'}, {'iso...   \n",
       "2          0.0   101.0           [{'iso_639_1': 'en', 'name': 'English'}]   \n",
       "3   81452156.0   127.0           [{'iso_639_1': 'en', 'name': 'English'}]   \n",
       "4   76578911.0   106.0           [{'iso_639_1': 'en', 'name': 'English'}]   \n",
       "\n",
       "     status                                            tagline   \n",
       "0  Released                                                NaN  \\\n",
       "1  Released          Roll the dice and unleash the excitement!   \n",
       "2  Released  Still Yelling. Still Fighting. Still Ready for...   \n",
       "3  Released  Friends are the people who let you be yourself...   \n",
       "4  Released  Just When His World Is Back To Normal... He's ...   \n",
       "\n",
       "                         title  video vote_average vote_count  \n",
       "0                    Toy Story  False          7.7     5415.0  \n",
       "1                      Jumanji  False          6.9     2413.0  \n",
       "2             Grumpier Old Men  False          6.5       92.0  \n",
       "3            Waiting to Exhale  False          6.1       34.0  \n",
       "4  Father of the Bride Part II  False          5.7      173.0  \n",
       "\n",
       "[5 rows x 24 columns]"
      ]
     },
     "execution_count": 2,
     "metadata": {},
     "output_type": "execute_result"
    }
   ],
   "source": [
    "#Load data \n",
    "movies=pd.read_csv('movies_dataset.csv')\n",
    "movies.head()"
   ]
  },
  {
   "cell_type": "code",
   "execution_count": 3,
   "metadata": {},
   "outputs": [
    {
     "name": "stdout",
     "output_type": "stream",
     "text": [
      "<class 'pandas.core.frame.DataFrame'>\n",
      "RangeIndex: 45466 entries, 0 to 45465\n",
      "Data columns (total 24 columns):\n",
      " #   Column                 Non-Null Count  Dtype  \n",
      "---  ------                 --------------  -----  \n",
      " 0   adult                  45466 non-null  object \n",
      " 1   belongs_to_collection  4494 non-null   object \n",
      " 2   budget                 45466 non-null  object \n",
      " 3   genres                 45466 non-null  object \n",
      " 4   homepage               7782 non-null   object \n",
      " 5   id                     45466 non-null  object \n",
      " 6   imdb_id                45449 non-null  object \n",
      " 7   original_language      45455 non-null  object \n",
      " 8   original_title         45466 non-null  object \n",
      " 9   overview               44512 non-null  object \n",
      " 10  popularity             45461 non-null  object \n",
      " 11  poster_path            45080 non-null  object \n",
      " 12  production_companies   45463 non-null  object \n",
      " 13  production_countries   45463 non-null  object \n",
      " 14  release_date           45379 non-null  object \n",
      " 15  revenue                45460 non-null  float64\n",
      " 16  runtime                45203 non-null  float64\n",
      " 17  spoken_languages       45460 non-null  object \n",
      " 18  status                 45379 non-null  object \n",
      " 19  tagline                20412 non-null  object \n",
      " 20  title                  45460 non-null  object \n",
      " 21  video                  45460 non-null  object \n",
      " 22  vote_average           45460 non-null  float64\n",
      " 23  vote_count             45460 non-null  float64\n",
      "dtypes: float64(4), object(20)\n",
      "memory usage: 8.3+ MB\n"
     ]
    }
   ],
   "source": [
    "movies.info()"
   ]
  },
  {
   "attachments": {},
   "cell_type": "markdown",
   "metadata": {},
   "source": [
    "### Features"
   ]
  },
  {
   "attachments": {},
   "cell_type": "markdown",
   "metadata": {},
   "source": [
    "- adult - Indicates if the movie has an X rating, exclusive for adults.  \n",
    "- belongs_to_collection - A dictionary indicating the franchise or film series to which the movie belongs.  \n",
    "- budget - The movie's budget in dollars.  \n",
    "- genres - A dictionary indicating all the genres associated with the movie.  \n",
    "- homepage - The official website of the movie.  \n",
    "- id - The movie's ID.  \n",
    "- imdb_id - The IMDb ID of the movie.  \n",
    "- original_language - The original language in which the movie was filmed.  \n",
    "- original_title - The original title of the movie.  \n",
    "- overview - A brief summary of the movie.  \n",
    "- popularity - The movie's popularity score assigned by TMDB (The Movie Database).  \n",
    "- poster_path - URL of the movie's poster.  \n",
    "- production_companies - A list of production companies associated with the movie.  \n",
    "- production_countries - A list of countries where the movie was produced.  \n",
    "- release_date - The movie's release date.  \n",
    "- revenue - The movie's revenue in dollars.  \n",
    "- runtime - The duration of the movie in minutes.  \n",
    "- spoken_languages - A list of languages spoken in the movie.  \n",
    "- status - The current status of the movie (whether it has been announced, released, etc.).  \n",
    "- tagline - A famous phrase associated with the movie.  \n",
    "- title - The title of the movie.  \n",
    "- video - Indicates whether there is a video trailer available on TMDB.  \n",
    "- vote_average - The average rating score of the movie.  \n",
    "- vote_count - The number of votes received by the movie on TMDB.  \n",
    "\n",
    "\n",
    "\n",
    "\n"
   ]
  },
  {
   "cell_type": "code",
   "execution_count": null,
   "metadata": {},
   "outputs": [],
   "source": [
    "#let's see all the data\n",
    "pd.set_option('display.max_columns', None)"
   ]
  },
  {
   "cell_type": "code",
   "execution_count": null,
   "metadata": {},
   "outputs": [
    {
     "data": {
      "text/plain": [
       "\"{'id': 10194, 'name': 'Toy Story Collection', 'poster_path': '/7G9915LfUQ2lVfwMEEhDsn3kT4B.jpg', 'backdrop_path': '/9FBwqcd9IRruEDUrTdcaafOMKUq.jpg'}\""
      ]
     },
     "execution_count": 8,
     "metadata": {},
     "output_type": "execute_result"
    }
   ],
   "source": [
    "movies['belongs_to_collection'][0]\n",
    "#some strings are dicts so we going to use that fact"
   ]
  },
  {
   "cell_type": "code",
   "execution_count": null,
   "metadata": {},
   "outputs": [],
   "source": [
    "#In order to extract some info in these column its necessary \n",
    "movies['belongs_to_collection']=movies.belongs_to_collection.str.replace(\"'\",\"\\\"\")\n",
    "movies['belongs_to_collection'] = movies['belongs_to_collection'].fillna('{}')"
   ]
  },
  {
   "cell_type": "code",
   "execution_count": null,
   "metadata": {},
   "outputs": [],
   "source": [
    "#this function extract the value of key 'id' and 'name'.\n",
    "\n",
    "def extract_info(cadena):\n",
    "    try:\n",
    "        cadena_dic = json.loads(cadena)\n",
    "        collection_id = cadena_dic.get('id', 'NaN')\n",
    "        collection_name = cadena_dic.get('name', 'NaN')\n",
    "    except (json.JSONDecodeError, AttributeError):\n",
    "        collection_id = 'NaN'\n",
    "        collection_name = 'NaN'\n",
    "    \n",
    "    return pd.Series({'id_collection': collection_id, 'collection': collection_name})\n"
   ]
  },
  {
   "cell_type": "code",
   "execution_count": null,
   "metadata": {},
   "outputs": [],
   "source": [
    "# this line assigns for the new columns 'id_collection' and 'collection' the value extracted for the function above \n",
    "movies[['id_collection', 'collection']] = movies['belongs_to_collection'].apply(extract_info)"
   ]
  },
  {
   "attachments": {},
   "cell_type": "markdown",
   "metadata": {},
   "source": [
    "## Let's transform genres columns"
   ]
  },
  {
   "cell_type": "code",
   "execution_count": null,
   "metadata": {},
   "outputs": [],
   "source": [
    "# to use json features'\n",
    "movies['genres']=movies.genres.str.replace(\"'\",\"\\\"\")"
   ]
  },
  {
   "cell_type": "code",
   "execution_count": null,
   "metadata": {},
   "outputs": [],
   "source": [
    "#making a copy to create another dataframe containing genres \n",
    "prueba=movies.copy()"
   ]
  },
  {
   "cell_type": "code",
   "execution_count": null,
   "metadata": {},
   "outputs": [],
   "source": [
    "\n",
    "genres_df = json_normalize(prueba['genres'].apply(eval).sum())\n",
    "# This line of code takes the \"genres\" column from a DataFrame called \"prueba\" that contains data in JSON format\n",
    "# and applies the \"eval()\" function to each value in the \"genres\" column to convert it to a Python list.\n",
    "# Then, it uses the \"sum()\" function to join all the genre lists into a single list, and finally uses the\n",
    "# \"json_normalize()\" function to convert the genre list into a DataFrame called \"genres_df\" with a single column named \"0\".\n",
    "# This DataFrame has one row for each genre in the list and is used to analyze the genres present in the original data."
   ]
  },
  {
   "cell_type": "code",
   "execution_count": null,
   "metadata": {},
   "outputs": [],
   "source": [
    "genres_df.rename(columns={'id':'id_genre'}, inplace=True)"
   ]
  },
  {
   "cell_type": "code",
   "execution_count": null,
   "metadata": {},
   "outputs": [],
   "source": [
    "# This line of code creates a new column called \"id\" in the \"genres_df\" DataFrame and assigns it the values from the \"id\" column in the original \"prueba\" DataFrame.\n",
    "# The \"repeat()\" function is used to repeat each value in the \"id\" column of \"prueba\" based on the length of each list of genres after applying the \"eval()\" function.\n",
    "# This ensures that each genre in the \"genres_df\" DataFrame is associated with the correct \"id\" value from the original data.\n",
    "# The \"reset_index()\" function is used to reset the index of the resulting DataFrame, dropping the original index created by \"repeat()\".\n",
    "genres_df['id'] = prueba['id'].repeat(prueba['genres'].apply(eval).apply(len)).reset_index(drop=True)\n"
   ]
  },
  {
   "attachments": {},
   "cell_type": "markdown",
   "metadata": {},
   "source": [
    "## Transformations to generate a dataframe that contains info about 'production company' linked with id of movie."
   ]
  },
  {
   "cell_type": "code",
   "execution_count": null,
   "metadata": {},
   "outputs": [],
   "source": [
    "prueba1=movies.copy()\n",
    "prueba1['production_companies']=prueba1['production_companies'].str.replace(\"'\",\"\\\"\")\n",
    "q=prueba1['production_companies'].fillna('{}')"
   ]
  },
  {
   "cell_type": "code",
   "execution_count": null,
   "metadata": {},
   "outputs": [],
   "source": [
    "\"\"\"\"\"There are dictionaries with values that contains (\") which provoke error of decodification so define a function that eliminates those (\")\"\"\"\n",
    "def procesar_serie(serie):\n",
    "    max_iteraciones = 20  # Max number of iterations\n",
    "    \n",
    "    #Function to process a string \n",
    "    def procesar_cadena(cadena):\n",
    "        iteracion = 0  # counter of iterations\n",
    "        \n",
    "        while iteracion < max_iteraciones:\n",
    "            try:\n",
    "                #tries to load a string with json.loads()\n",
    "              \n",
    "                json.loads(cadena)\n",
    "                #if not error, save it on a serie\n",
    "               \n",
    "                return pd.Series([cadena])\n",
    "            except json.JSONDecodeError as e:\n",
    "                #if error, find the position of character \n",
    "                \n",
    "                error_posicion = e.pos\n",
    "                # remove the previous character \n",
    "                nueva_cadena = cadena[:error_posicion - 1] + cadena[error_posicion:]\n",
    "                cadena = nueva_cadena\n",
    "                \n",
    "            iteracion += 1\n",
    "        \n",
    "        return pd.Series(['NaN']) #If not founded a valid string before of limit of iterations return NaN \n",
    "    \n",
    "    \n",
    "    #Apply function to process each element of the serie\n",
    "    nueva_serie = serie.apply(procesar_cadena)\n",
    "    return nueva_serie"
   ]
  },
  {
   "cell_type": "code",
   "execution_count": null,
   "metadata": {},
   "outputs": [],
   "source": [
    "prueba1['production_companies']=procesar_serie(q)"
   ]
  },
  {
   "cell_type": "code",
   "execution_count": null,
   "metadata": {},
   "outputs": [],
   "source": [
    "def procesar_json(cadena):\n",
    "    # load the json object to a python object\n",
    "    objeto_json = json.loads(cadena)\n",
    "    \n",
    "    # Normalizing\n",
    "    dataframe = json_normalize(objeto_json)\n",
    "    \n",
    "    return dataframe"
   ]
  },
  {
   "cell_type": "code",
   "execution_count": null,
   "metadata": {},
   "outputs": [],
   "source": [
    "prueba1['production_companies']=prueba1['production_companies'].replace('NaN','{}')\n",
    "df_resultado = pd.DataFrame()\n",
    "# Apply the function to process each string of serie\n",
    "\n",
    "df_temporales = prueba1['production_companies'].apply(procesar_json)\n",
    "\n",
    "#Concatenate each dataframe to get the final dataframe\n",
    "if not df_temporales.empty:\n",
    "    df_resultado = pd.concat(df_temporales.to_list(), ignore_index=True)\n",
    "    df_resultado['indice'] = prueba1.index.repeat(df_temporales.apply(len))\n",
    "    df_resultado['indice'] = df_resultado['indice'].reindex(df_resultado.index)"
   ]
  },
  {
   "cell_type": "code",
   "execution_count": null,
   "metadata": {},
   "outputs": [],
   "source": [
    "df_resultado = df_resultado.merge(prueba1['id'], left_on='indice', right_index=True, how='left') \n",
    "prod_company_df=df_resultado.rename(columns={'id_x':'id_prod_company','id_y':'id'})\n",
    "prod_company_df['id_prod_company']=prod_company_df['id_prod_company'].fillna(0).astype(int)\n",
    "prod_company_df.drop(columns=['indice'],inplace=True)"
   ]
  },
  {
   "attachments": {},
   "cell_type": "markdown",
   "metadata": {},
   "source": [
    "## Transformations to generate a dataframe that contains info about 'production_countries' linked with id of movie."
   ]
  },
  {
   "cell_type": "code",
   "execution_count": null,
   "metadata": {},
   "outputs": [],
   "source": [
    "prueba2=movies.copy()\n"
   ]
  },
  {
   "cell_type": "code",
   "execution_count": null,
   "metadata": {},
   "outputs": [],
   "source": [
    "prueba2['production_countries']=prueba2['production_countries'].str.replace(\"'\",\"\\\"\")\n",
    "r=prueba2['production_countries'].fillna('{}')"
   ]
  },
  {
   "cell_type": "code",
   "execution_count": null,
   "metadata": {},
   "outputs": [],
   "source": [
    "prueba2['production_countries']=procesar_serie(r)"
   ]
  },
  {
   "cell_type": "code",
   "execution_count": null,
   "metadata": {},
   "outputs": [
    {
     "name": "stdout",
     "output_type": "stream",
     "text": [
      "Error en el índice: 19730\n",
      "Error en el índice: 29503\n",
      "Error en el índice: 35587\n"
     ]
    }
   ],
   "source": [
    "#there are registers in the serie with problems to be processed for the function 'procesar_json', let'see what happen\n",
    "for indice, valor in prueba2['production_countries'].items():\n",
    "    try:\n",
    "        procesar_json(valor)\n",
    "    except NotImplementedError:\n",
    "        print(\"Error en el índice:\", indice)"
   ]
  },
  {
   "cell_type": "code",
   "execution_count": null,
   "metadata": {},
   "outputs": [
    {
     "name": "stderr",
     "output_type": "stream",
     "text": [
      "C:\\Users\\pedro\\AppData\\Local\\Temp\\ipykernel_11612\\1271705497.py:2: SettingWithCopyWarning: \n",
      "A value is trying to be set on a copy of a slice from a DataFrame\n",
      "\n",
      "See the caveats in the documentation: https://pandas.pydata.org/pandas-docs/stable/user_guide/indexing.html#returning-a-view-versus-a-copy\n",
      "  prueba2['production_countries'].iloc[19730]='{}'\n",
      "C:\\Users\\pedro\\AppData\\Local\\Temp\\ipykernel_11612\\1271705497.py:3: SettingWithCopyWarning: \n",
      "A value is trying to be set on a copy of a slice from a DataFrame\n",
      "\n",
      "See the caveats in the documentation: https://pandas.pydata.org/pandas-docs/stable/user_guide/indexing.html#returning-a-view-versus-a-copy\n",
      "  prueba2['production_countries'].iloc[29503]='{}'\n",
      "C:\\Users\\pedro\\AppData\\Local\\Temp\\ipykernel_11612\\1271705497.py:4: SettingWithCopyWarning: \n",
      "A value is trying to be set on a copy of a slice from a DataFrame\n",
      "\n",
      "See the caveats in the documentation: https://pandas.pydata.org/pandas-docs/stable/user_guide/indexing.html#returning-a-view-versus-a-copy\n",
      "  prueba2['production_countries'].iloc[35587]='{}'\n"
     ]
    }
   ],
   "source": [
    "#let's replace that values\n",
    "prueba2['production_countries'].iloc[19730]='{}'\n",
    "prueba2['production_countries'].iloc[29503]='{}'\n",
    "prueba2['production_countries'].iloc[35587]='{}'"
   ]
  },
  {
   "cell_type": "code",
   "execution_count": null,
   "metadata": {},
   "outputs": [],
   "source": [
    "prueba2['production_countries']=prueba2['production_countries'].replace('NaN','{}')\n",
    "df_resultado = pd.DataFrame()\n",
    "# Apply the function to process each string of serie\n",
    "\n",
    "df_temporales = prueba2['production_countries'].apply(procesar_json)\n",
    "\n",
    "#Concatenate each dataframe to get the final dataframe\n",
    "if not df_temporales.empty:\n",
    "    df_resultado = pd.concat(df_temporales.to_list(), ignore_index=True)\n",
    "    df_resultado['indice'] = prueba2.index.repeat(df_temporales.apply(len))\n",
    "    df_resultado['indice'] = df_resultado['indice'].reindex(df_resultado.index)"
   ]
  },
  {
   "cell_type": "code",
   "execution_count": null,
   "metadata": {},
   "outputs": [],
   "source": [
    "df_resultado = df_resultado.merge(prueba2['id'], left_on='indice', right_index=True, how='left') \n",
    "prod_country_df=pd.DataFrame()\n",
    "prod_country_df=df_resultado"
   ]
  },
  {
   "cell_type": "code",
   "execution_count": null,
   "metadata": {},
   "outputs": [],
   "source": [
    "\n",
    "#obtain the uniques values of the column 'pais'\n",
    "unique_countries = prod_country_df['name'].unique()\n",
    "\n",
    "#Create a dictionary associated to every country with a Id\n",
    "country_dict = {country: i for i, country in enumerate(unique_countries)}\n",
    "\n",
    "# create the new column 'id country' using the dict \n",
    "prod_country_df['id_country'] = prod_country_df['name'].map(country_dict)"
   ]
  },
  {
   "cell_type": "code",
   "execution_count": null,
   "metadata": {},
   "outputs": [],
   "source": [
    "prod_country_df=prod_country_df.rename(columns={'name':'country'})"
   ]
  },
  {
   "attachments": {},
   "cell_type": "markdown",
   "metadata": {},
   "source": [
    "## Transformations to generate a dataframe that contains info about 'spoken_languages' linked with id of movie."
   ]
  },
  {
   "cell_type": "code",
   "execution_count": null,
   "metadata": {},
   "outputs": [],
   "source": [
    "prueba3=movies.copy()"
   ]
  },
  {
   "cell_type": "code",
   "execution_count": null,
   "metadata": {},
   "outputs": [],
   "source": [
    "prueba3['spoken_languages']=prueba3['spoken_languages'].str.replace(\"'\",\"\\\"\")\n",
    "s=prueba3['spoken_languages'].fillna('{}')"
   ]
  },
  {
   "cell_type": "code",
   "execution_count": null,
   "metadata": {},
   "outputs": [],
   "source": [
    "prueba3['spoken_languages']=procesar_serie(s)"
   ]
  },
  {
   "cell_type": "code",
   "execution_count": null,
   "metadata": {},
   "outputs": [
    {
     "name": "stdout",
     "output_type": "stream",
     "text": [
      "Índices con error: [12564, 16026, 19203, 21322, 21323, 22106, 22235, 25497, 27683, 30619, 30694, 33422, 33954, 34445, 34448, 36267, 36521, 36652, 37435, 39057, 40933, 40986, 43190, 44493, 44545, 44983]\n"
     ]
    }
   ],
   "source": [
    "#there are registers in serie with problems to be processed for the function 'procesar_json', let'see what happen\n",
    "indices_con_error = []  \n",
    "# List to save index with error \n",
    "\n",
    "for indice, valor in prueba3['spoken_languages'].items():\n",
    "    try:\n",
    "        procesar_json(valor)\n",
    "    except NotImplementedError:\n",
    "        indices_con_error.append(indice)  #add index the list \n",
    "\n",
    "print(\"Índices con error:\", indices_con_error)\n"
   ]
  },
  {
   "cell_type": "code",
   "execution_count": null,
   "metadata": {},
   "outputs": [
    {
     "name": "stderr",
     "output_type": "stream",
     "text": [
      "C:\\Users\\pedro\\AppData\\Local\\Temp\\ipykernel_11612\\2551171607.py:3: SettingWithCopyWarning: \n",
      "A value is trying to be set on a copy of a slice from a DataFrame\n",
      "\n",
      "See the caveats in the documentation: https://pandas.pydata.org/pandas-docs/stable/user_guide/indexing.html#returning-a-view-versus-a-copy\n",
      "  prueba3['spoken_languages'].iloc[ind]='{}'\n",
      "C:\\Users\\pedro\\AppData\\Local\\Temp\\ipykernel_11612\\2551171607.py:3: SettingWithCopyWarning: \n",
      "A value is trying to be set on a copy of a slice from a DataFrame\n",
      "\n",
      "See the caveats in the documentation: https://pandas.pydata.org/pandas-docs/stable/user_guide/indexing.html#returning-a-view-versus-a-copy\n",
      "  prueba3['spoken_languages'].iloc[ind]='{}'\n",
      "C:\\Users\\pedro\\AppData\\Local\\Temp\\ipykernel_11612\\2551171607.py:3: SettingWithCopyWarning: \n",
      "A value is trying to be set on a copy of a slice from a DataFrame\n",
      "\n",
      "See the caveats in the documentation: https://pandas.pydata.org/pandas-docs/stable/user_guide/indexing.html#returning-a-view-versus-a-copy\n",
      "  prueba3['spoken_languages'].iloc[ind]='{}'\n",
      "C:\\Users\\pedro\\AppData\\Local\\Temp\\ipykernel_11612\\2551171607.py:3: SettingWithCopyWarning: \n",
      "A value is trying to be set on a copy of a slice from a DataFrame\n",
      "\n",
      "See the caveats in the documentation: https://pandas.pydata.org/pandas-docs/stable/user_guide/indexing.html#returning-a-view-versus-a-copy\n",
      "  prueba3['spoken_languages'].iloc[ind]='{}'\n",
      "C:\\Users\\pedro\\AppData\\Local\\Temp\\ipykernel_11612\\2551171607.py:3: SettingWithCopyWarning: \n",
      "A value is trying to be set on a copy of a slice from a DataFrame\n",
      "\n",
      "See the caveats in the documentation: https://pandas.pydata.org/pandas-docs/stable/user_guide/indexing.html#returning-a-view-versus-a-copy\n",
      "  prueba3['spoken_languages'].iloc[ind]='{}'\n",
      "C:\\Users\\pedro\\AppData\\Local\\Temp\\ipykernel_11612\\2551171607.py:3: SettingWithCopyWarning: \n",
      "A value is trying to be set on a copy of a slice from a DataFrame\n",
      "\n",
      "See the caveats in the documentation: https://pandas.pydata.org/pandas-docs/stable/user_guide/indexing.html#returning-a-view-versus-a-copy\n",
      "  prueba3['spoken_languages'].iloc[ind]='{}'\n",
      "C:\\Users\\pedro\\AppData\\Local\\Temp\\ipykernel_11612\\2551171607.py:3: SettingWithCopyWarning: \n",
      "A value is trying to be set on a copy of a slice from a DataFrame\n",
      "\n",
      "See the caveats in the documentation: https://pandas.pydata.org/pandas-docs/stable/user_guide/indexing.html#returning-a-view-versus-a-copy\n",
      "  prueba3['spoken_languages'].iloc[ind]='{}'\n",
      "C:\\Users\\pedro\\AppData\\Local\\Temp\\ipykernel_11612\\2551171607.py:3: SettingWithCopyWarning: \n",
      "A value is trying to be set on a copy of a slice from a DataFrame\n",
      "\n",
      "See the caveats in the documentation: https://pandas.pydata.org/pandas-docs/stable/user_guide/indexing.html#returning-a-view-versus-a-copy\n",
      "  prueba3['spoken_languages'].iloc[ind]='{}'\n",
      "C:\\Users\\pedro\\AppData\\Local\\Temp\\ipykernel_11612\\2551171607.py:3: SettingWithCopyWarning: \n",
      "A value is trying to be set on a copy of a slice from a DataFrame\n",
      "\n",
      "See the caveats in the documentation: https://pandas.pydata.org/pandas-docs/stable/user_guide/indexing.html#returning-a-view-versus-a-copy\n",
      "  prueba3['spoken_languages'].iloc[ind]='{}'\n",
      "C:\\Users\\pedro\\AppData\\Local\\Temp\\ipykernel_11612\\2551171607.py:3: SettingWithCopyWarning: \n",
      "A value is trying to be set on a copy of a slice from a DataFrame\n",
      "\n",
      "See the caveats in the documentation: https://pandas.pydata.org/pandas-docs/stable/user_guide/indexing.html#returning-a-view-versus-a-copy\n",
      "  prueba3['spoken_languages'].iloc[ind]='{}'\n",
      "C:\\Users\\pedro\\AppData\\Local\\Temp\\ipykernel_11612\\2551171607.py:3: SettingWithCopyWarning: \n",
      "A value is trying to be set on a copy of a slice from a DataFrame\n",
      "\n",
      "See the caveats in the documentation: https://pandas.pydata.org/pandas-docs/stable/user_guide/indexing.html#returning-a-view-versus-a-copy\n",
      "  prueba3['spoken_languages'].iloc[ind]='{}'\n",
      "C:\\Users\\pedro\\AppData\\Local\\Temp\\ipykernel_11612\\2551171607.py:3: SettingWithCopyWarning: \n",
      "A value is trying to be set on a copy of a slice from a DataFrame\n",
      "\n",
      "See the caveats in the documentation: https://pandas.pydata.org/pandas-docs/stable/user_guide/indexing.html#returning-a-view-versus-a-copy\n",
      "  prueba3['spoken_languages'].iloc[ind]='{}'\n",
      "C:\\Users\\pedro\\AppData\\Local\\Temp\\ipykernel_11612\\2551171607.py:3: SettingWithCopyWarning: \n",
      "A value is trying to be set on a copy of a slice from a DataFrame\n",
      "\n",
      "See the caveats in the documentation: https://pandas.pydata.org/pandas-docs/stable/user_guide/indexing.html#returning-a-view-versus-a-copy\n",
      "  prueba3['spoken_languages'].iloc[ind]='{}'\n",
      "C:\\Users\\pedro\\AppData\\Local\\Temp\\ipykernel_11612\\2551171607.py:3: SettingWithCopyWarning: \n",
      "A value is trying to be set on a copy of a slice from a DataFrame\n",
      "\n",
      "See the caveats in the documentation: https://pandas.pydata.org/pandas-docs/stable/user_guide/indexing.html#returning-a-view-versus-a-copy\n",
      "  prueba3['spoken_languages'].iloc[ind]='{}'\n",
      "C:\\Users\\pedro\\AppData\\Local\\Temp\\ipykernel_11612\\2551171607.py:3: SettingWithCopyWarning: \n",
      "A value is trying to be set on a copy of a slice from a DataFrame\n",
      "\n",
      "See the caveats in the documentation: https://pandas.pydata.org/pandas-docs/stable/user_guide/indexing.html#returning-a-view-versus-a-copy\n",
      "  prueba3['spoken_languages'].iloc[ind]='{}'\n",
      "C:\\Users\\pedro\\AppData\\Local\\Temp\\ipykernel_11612\\2551171607.py:3: SettingWithCopyWarning: \n",
      "A value is trying to be set on a copy of a slice from a DataFrame\n",
      "\n",
      "See the caveats in the documentation: https://pandas.pydata.org/pandas-docs/stable/user_guide/indexing.html#returning-a-view-versus-a-copy\n",
      "  prueba3['spoken_languages'].iloc[ind]='{}'\n",
      "C:\\Users\\pedro\\AppData\\Local\\Temp\\ipykernel_11612\\2551171607.py:3: SettingWithCopyWarning: \n",
      "A value is trying to be set on a copy of a slice from a DataFrame\n",
      "\n",
      "See the caveats in the documentation: https://pandas.pydata.org/pandas-docs/stable/user_guide/indexing.html#returning-a-view-versus-a-copy\n",
      "  prueba3['spoken_languages'].iloc[ind]='{}'\n",
      "C:\\Users\\pedro\\AppData\\Local\\Temp\\ipykernel_11612\\2551171607.py:3: SettingWithCopyWarning: \n",
      "A value is trying to be set on a copy of a slice from a DataFrame\n",
      "\n",
      "See the caveats in the documentation: https://pandas.pydata.org/pandas-docs/stable/user_guide/indexing.html#returning-a-view-versus-a-copy\n",
      "  prueba3['spoken_languages'].iloc[ind]='{}'\n",
      "C:\\Users\\pedro\\AppData\\Local\\Temp\\ipykernel_11612\\2551171607.py:3: SettingWithCopyWarning: \n",
      "A value is trying to be set on a copy of a slice from a DataFrame\n",
      "\n",
      "See the caveats in the documentation: https://pandas.pydata.org/pandas-docs/stable/user_guide/indexing.html#returning-a-view-versus-a-copy\n",
      "  prueba3['spoken_languages'].iloc[ind]='{}'\n",
      "C:\\Users\\pedro\\AppData\\Local\\Temp\\ipykernel_11612\\2551171607.py:3: SettingWithCopyWarning: \n",
      "A value is trying to be set on a copy of a slice from a DataFrame\n",
      "\n",
      "See the caveats in the documentation: https://pandas.pydata.org/pandas-docs/stable/user_guide/indexing.html#returning-a-view-versus-a-copy\n",
      "  prueba3['spoken_languages'].iloc[ind]='{}'\n",
      "C:\\Users\\pedro\\AppData\\Local\\Temp\\ipykernel_11612\\2551171607.py:3: SettingWithCopyWarning: \n",
      "A value is trying to be set on a copy of a slice from a DataFrame\n",
      "\n",
      "See the caveats in the documentation: https://pandas.pydata.org/pandas-docs/stable/user_guide/indexing.html#returning-a-view-versus-a-copy\n",
      "  prueba3['spoken_languages'].iloc[ind]='{}'\n",
      "C:\\Users\\pedro\\AppData\\Local\\Temp\\ipykernel_11612\\2551171607.py:3: SettingWithCopyWarning: \n",
      "A value is trying to be set on a copy of a slice from a DataFrame\n",
      "\n",
      "See the caveats in the documentation: https://pandas.pydata.org/pandas-docs/stable/user_guide/indexing.html#returning-a-view-versus-a-copy\n",
      "  prueba3['spoken_languages'].iloc[ind]='{}'\n",
      "C:\\Users\\pedro\\AppData\\Local\\Temp\\ipykernel_11612\\2551171607.py:3: SettingWithCopyWarning: \n",
      "A value is trying to be set on a copy of a slice from a DataFrame\n",
      "\n",
      "See the caveats in the documentation: https://pandas.pydata.org/pandas-docs/stable/user_guide/indexing.html#returning-a-view-versus-a-copy\n",
      "  prueba3['spoken_languages'].iloc[ind]='{}'\n",
      "C:\\Users\\pedro\\AppData\\Local\\Temp\\ipykernel_11612\\2551171607.py:3: SettingWithCopyWarning: \n",
      "A value is trying to be set on a copy of a slice from a DataFrame\n",
      "\n",
      "See the caveats in the documentation: https://pandas.pydata.org/pandas-docs/stable/user_guide/indexing.html#returning-a-view-versus-a-copy\n",
      "  prueba3['spoken_languages'].iloc[ind]='{}'\n",
      "C:\\Users\\pedro\\AppData\\Local\\Temp\\ipykernel_11612\\2551171607.py:3: SettingWithCopyWarning: \n",
      "A value is trying to be set on a copy of a slice from a DataFrame\n",
      "\n",
      "See the caveats in the documentation: https://pandas.pydata.org/pandas-docs/stable/user_guide/indexing.html#returning-a-view-versus-a-copy\n",
      "  prueba3['spoken_languages'].iloc[ind]='{}'\n",
      "C:\\Users\\pedro\\AppData\\Local\\Temp\\ipykernel_11612\\2551171607.py:3: SettingWithCopyWarning: \n",
      "A value is trying to be set on a copy of a slice from a DataFrame\n",
      "\n",
      "See the caveats in the documentation: https://pandas.pydata.org/pandas-docs/stable/user_guide/indexing.html#returning-a-view-versus-a-copy\n",
      "  prueba3['spoken_languages'].iloc[ind]='{}'\n"
     ]
    }
   ],
   "source": [
    "#let's replace that values\n",
    "for ind in indices_con_error:\n",
    "    prueba3['spoken_languages'].iloc[ind]='{}'"
   ]
  },
  {
   "cell_type": "code",
   "execution_count": null,
   "metadata": {},
   "outputs": [],
   "source": [
    "prueba3['spoken_languages']=prueba3['spoken_languages'].replace('NaN','{}')\n",
    "df_resultado = pd.DataFrame()\n",
    "# Apply the function to process each string of serie\n",
    "\n",
    "df_temporales = prueba3['spoken_languages'].apply(procesar_json)\n",
    "\n",
    "#Concatenate each dataframe to get the final dataframe\n",
    "if not df_temporales.empty:\n",
    "    df_resultado = pd.concat(df_temporales.to_list(), ignore_index=True)\n",
    "    df_resultado['indice'] = prueba3.index.repeat(df_temporales.apply(len))\n",
    "    df_resultado['indice'] = df_resultado['indice'].reindex(df_resultado.index)"
   ]
  },
  {
   "cell_type": "code",
   "execution_count": null,
   "metadata": {},
   "outputs": [],
   "source": [
    "df_resultado = df_resultado.merge(prueba3['id'], left_on='indice', right_index=True, how='left') \n",
    "spoken_languages_df=pd.DataFrame()\n",
    "spoken_languages_df=df_resultado"
   ]
  },
  {
   "cell_type": "code",
   "execution_count": null,
   "metadata": {},
   "outputs": [],
   "source": [
    "# Obtain the uniques values in the column 'spoken_languages'\n",
    "unique_languages = spoken_languages_df['name'].unique()\n",
    "\n",
    "# Create a dictionary associated to every language with unique number \n",
    "country_dict = {language: i for i, language in enumerate(unique_languages)}\n",
    "\n",
    "#Create a new column 'id_language' using the previous dictionary \n",
    "spoken_languages_df['id_language'] = spoken_languages_df['name'].map(country_dict)"
   ]
  },
  {
   "cell_type": "code",
   "execution_count": null,
   "metadata": {},
   "outputs": [],
   "source": [
    "spoken_languages_df=spoken_languages_df.rename(columns={'name':'language'})\n",
    "spoken_languages_df.drop(columns=['indice'],inplace=True)"
   ]
  },
  {
   "attachments": {},
   "cell_type": "markdown",
   "metadata": {},
   "source": [
    "## So far, we have created four data frames:\n",
    "**spoken_languages_df,\n",
    "prod_country_df,\n",
    "prod_company_df,\n",
    "genres_df.**"
   ]
  },
  {
   "cell_type": "code",
   "execution_count": null,
   "metadata": {},
   "outputs": [],
   "source": [
    "# given the dataframe genres_df,prod_company_df,prod_country_df,spoken_languages_df we can drop them of the movies\n",
    "movies.drop(columns=['belongs_to_collection','video','imdb_id','adult','original_title','vote_count','poster_path','homepage','genres','production_companies','production_countries','spoken_languages'], inplace=True)"
   ]
  },
  {
   "cell_type": "code",
   "execution_count": null,
   "metadata": {},
   "outputs": [],
   "source": [
    "def convert_budget(value):\n",
    "    try:\n",
    "        return float(value)\n",
    "    except ValueError:\n",
    "        return 0.0\n"
   ]
  },
  {
   "cell_type": "code",
   "execution_count": null,
   "metadata": {},
   "outputs": [],
   "source": [
    "# Null values of revenue and budget must be replaced by 0.\n",
    "\n",
    "movies['revenue']=movies['revenue'].fillna(0)\n",
    "movies['budget']=movies['budget'].apply(convert_budget).astype(float)\n"
   ]
  },
  {
   "cell_type": "code",
   "execution_count": null,
   "metadata": {},
   "outputs": [],
   "source": [
    "movies['release_date']=movies['release_date'].fillna(0)"
   ]
  },
  {
   "cell_type": "code",
   "execution_count": null,
   "metadata": {},
   "outputs": [],
   "source": [
    "\n",
    "#If there are dates, they must have the format YYYY-mm-dd, and you must also create the release_year column where the year of the release date will be extracted.\n",
    "\n",
    "movies['release_date'] = pd.to_datetime(movies['release_date'], format=\"%Y-%m-%d\", errors='coerce')"
   ]
  },
  {
   "cell_type": "code",
   "execution_count": null,
   "metadata": {},
   "outputs": [],
   "source": [
    "movies['release_year'] = movies['release_date'].dt.year.fillna(0).astype(int)"
   ]
  },
  {
   "cell_type": "code",
   "execution_count": null,
   "metadata": {},
   "outputs": [],
   "source": [
    "#Create the column with the return on investment, called return with the fields revenue and budget, dividing these last two revenue / budget,\n",
    "# when there is no data available to calculate it, it should take the value 0."
   ]
  },
  {
   "cell_type": "code",
   "execution_count": null,
   "metadata": {},
   "outputs": [],
   "source": [
    "movies['return']=movies['revenue']/movies['budget']"
   ]
  },
  {
   "cell_type": "code",
   "execution_count": null,
   "metadata": {},
   "outputs": [],
   "source": [
    "#replace 'inf' for 0\n",
    "movies['return']=np.where(np.isinf(movies['return']), 0, movies['return'])\n",
    "\n",
    "movies['return'] =movies['return'].fillna(0) "
   ]
  }
 ],
 "metadata": {
  "kernelspec": {
   "display_name": "Python 3",
   "language": "python",
   "name": "python3"
  },
  "language_info": {
   "codemirror_mode": {
    "name": "ipython",
    "version": 3
   },
   "file_extension": ".py",
   "mimetype": "text/x-python",
   "name": "python",
   "nbconvert_exporter": "python",
   "pygments_lexer": "ipython3",
   "version": "3.11.1"
  },
  "orig_nbformat": 4
 },
 "nbformat": 4,
 "nbformat_minor": 2
}
